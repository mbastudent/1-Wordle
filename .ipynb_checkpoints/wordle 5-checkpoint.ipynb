{
 "cells": [
  {
   "cell_type": "code",
   "execution_count": 1,
   "id": "cea77f62",
   "metadata": {},
   "outputs": [
    {
     "name": "stdout",
     "output_type": "stream",
     "text": [
      "1\n",
      "Enter your guess: hello\n",
      "_____\n",
      "2\n",
      "Enter your guess: break\n",
      "_X_OX\n",
      "3\n",
      "Enter your guess: track\n",
      "XXXXX\n",
      "You won!\n"
     ]
    },
    {
     "data": {
      "text/plain": [
       "True"
      ]
     },
     "execution_count": 1,
     "metadata": {},
     "output_type": "execute_result"
    }
   ],
   "source": [
    "import random\n",
    "\n",
    "def word_list():\n",
    "    words_full_list = []\n",
    "    with open(\"5_letter_words.txt\", \"r\") as file:\n",
    "        for line in file:\n",
    "            line = line.strip()\n",
    "            words_full_list.append(line)\n",
    "    return words_full_list\n",
    "    \n",
    "    \n",
    "def random_word(words):\n",
    "    upper = len(words)\n",
    "    random_number = random.randint(1, upper)\n",
    "    return words[random_number-1]\n",
    "    \n",
    "    \n",
    "def is_real_word(guess_word, words_full_list):\n",
    "    \n",
    "    if guess_word in words_full_list:\n",
    "        return True\n",
    "    else:\n",
    "        return False\n",
    "    \n",
    "\n",
    "def check_guess(guess_word, the_word):\n",
    "    icons = ['_', '_', '_', '_', '_']\n",
    "    used_X = []\n",
    "    used_O = []\n",
    "    for index in range(5):\n",
    "        occurance = the_word.count(guess_word[index])\n",
    "        if guess_word[index] == the_word[index]:\n",
    "            icons[index] = \"X\"\n",
    "            used_X.append(guess_word[index])\n",
    "        elif guess_word[index] in the_word:\n",
    "            if guess_word[index] in used_X:\n",
    "                icons[index] = \"_\"\n",
    "            else:\n",
    "                if guess_word[index] in used_O and occurance<2:\n",
    "                    icons[index] = \"_\"\n",
    "                else:\n",
    "                    icons[index] = \"O\"\n",
    "                    used_O.append(guess_word[index])\n",
    "    return \"\".join(icons)\n",
    "\n",
    "def next_guess(words_full_list):\n",
    "    validity = False\n",
    "    while not validity:\n",
    "        guess_word = input(\"Enter your guess: \").lower()\n",
    "        validity = is_real_word(guess_word, words_full_list)\n",
    "    return guess_word\n",
    "    \n",
    "\n",
    "def play():\n",
    "    words_full_list = word_list()\n",
    "    print(words_full_list)\n",
    "    the_word = random_word(words_full_list)\n",
    "    print(the_word)\n",
    "    \n",
    "    count = 1\n",
    "    while count <= 6:\n",
    "        print(count)\n",
    "        guess_word = next_guess(words_full_list)\n",
    "        \n",
    "        icons = check_guess(guess_word, the_word)\n",
    "        print(icons)\n",
    "        \n",
    "        if icons == \"XXXXX\":\n",
    "            print(\"You won!\")\n",
    "            return True\n",
    "        \n",
    "        count += 1\n",
    "    \n",
    "    print(\"You lost!\")\n",
    "    print(\"The word was\", the_word)\n",
    "    return False\n",
    "    \n",
    "    \n",
    "play()"
   ]
  },
  {
   "cell_type": "code",
   "execution_count": null,
   "id": "2c8515d8",
   "metadata": {},
   "outputs": [],
   "source": []
  },
  {
   "cell_type": "code",
   "execution_count": null,
   "id": "68a9c506",
   "metadata": {},
   "outputs": [],
   "source": []
  }
 ],
 "metadata": {
  "kernelspec": {
   "display_name": "Python 3 (ipykernel)",
   "language": "python",
   "name": "python3"
  },
  "language_info": {
   "codemirror_mode": {
    "name": "ipython",
    "version": 3
   },
   "file_extension": ".py",
   "mimetype": "text/x-python",
   "name": "python",
   "nbconvert_exporter": "python",
   "pygments_lexer": "ipython3",
   "version": "3.9.7"
  }
 },
 "nbformat": 4,
 "nbformat_minor": 5
}
